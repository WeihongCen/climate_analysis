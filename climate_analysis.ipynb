{
 "cells": [
  {
   "cell_type": "code",
   "execution_count": 1,
   "id": "c3c1237f-9a53-4ce8-a9f0-7f97ef3feb0e",
   "metadata": {},
   "outputs": [],
   "source": [
    "import matplotlib as mpl\n",
    "import matplotlib.pyplot as plt\n",
    "from mpl_toolkits.basemap import Basemap\n",
    "import numpy as np\n",
    "import xarray as xr\n",
    "import netCDF4 as nc\n",
    "import regionmask\n",
    "\n",
    "file = \"C:/Users/21cen/Documents/Python/climate/gistemp.nc\"\n",
    "gistemp = xr.open_dataset(file)"
   ]
  },
  {
   "cell_type": "code",
   "execution_count": null,
   "id": "b0831078-d392-47f0-8826-3c31a81f6a1f",
   "metadata": {},
   "outputs": [],
   "source": [
    "lon = np.arange(-179.5, 180)\n",
    "lat = np.arange(-89.5, 90)\n",
    "regionmask.defined_regions.srex"
   ]
  },
  {
   "cell_type": "code",
   "execution_count": null,
   "id": "be335d88-c28c-4583-b4e7-6c1f497853ad",
   "metadata": {},
   "outputs": [],
   "source": [
    "%matplotlib inline\n",
    "us_states_50 = regionmask.defined_regions.natural_earth.us_states_50"
   ]
  },
  {
   "cell_type": "code",
   "execution_count": null,
   "id": "cf5b1039-c5b4-469b-8f99-6098baf0500c",
   "metadata": {},
   "outputs": [],
   "source": [
    "average = []\n",
    "for i in range(1709):\n",
    "    average.append(gistemp.tempanomaly.isel(time = i).mean())"
   ]
  },
  {
   "cell_type": "code",
   "execution_count": null,
   "id": "a6359def-0371-4da1-9291-bb68507da114",
   "metadata": {},
   "outputs": [],
   "source": [
    "plt.plot(average)"
   ]
  },
  {
   "cell_type": "code",
   "execution_count": null,
   "id": "c5880a81-b11a-437d-aa11-f093569de0a1",
   "metadata": {},
   "outputs": [],
   "source": [
    "%matplotlib inline\n",
    "plt.figure(figsize=(20,10))\n",
    "map = Basemap(projection='cyl',lat_0=gistemp.tempanomaly.lat[0],lon_0=gistemp.tempanomaly.lon[90])\n",
    "map.drawcoastlines()\n",
    "map.drawcountries()\n",
    "gistemp.tempanomaly.isel(time = 1688).plot()"
   ]
  },
  {
   "cell_type": "code",
   "execution_count": null,
   "id": "3cf07354-e440-41ac-8fc8-9dedb2cd72ea",
   "metadata": {},
   "outputs": [],
   "source": [
    "gistemp.tempanomaly.isel(lat=70, lon=50).plot()"
   ]
  }
 ],
 "metadata": {
  "interpreter": {
   "hash": "bcc733baf092ee7f0a9dc86abde97473ee182c85c7bba865d538b13c091ca2a3"
  },
  "kernelspec": {
   "display_name": "Python 3 (ipykernel)",
   "language": "python",
   "name": "python3"
  },
  "language_info": {
   "codemirror_mode": {
    "name": "ipython",
    "version": 3
   },
   "file_extension": ".py",
   "mimetype": "text/x-python",
   "name": "python",
   "nbconvert_exporter": "python",
   "pygments_lexer": "ipython3",
   "version": "3.10.5"
  },
  "toc-autonumbering": false,
  "toc-showcode": true,
  "toc-showmarkdowntxt": false
 },
 "nbformat": 4,
 "nbformat_minor": 5
}
