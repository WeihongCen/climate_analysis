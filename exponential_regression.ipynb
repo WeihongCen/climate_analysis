{
 "cells": [
  {
   "cell_type": "code",
   "execution_count": 126,
   "id": "5fd8fa4d-d092-4ef7-864d-aae88e8b1399",
   "metadata": {},
   "outputs": [],
   "source": [
    "import numpy as np\n",
    "import matplotlib.pyplot as plt\n",
    "import math\n",
    "import random\n",
    "from scipy.optimize import curve_fit\n",
    "\n",
    "x = np.arange(1, 21, 1)\n",
    "y = np.array([1, 3, 5, 7, 9, 12, 15, 19, 23, 28,\n",
    "              33, 38, 44, 50, 56, 64, 73, 84, 97, 113])\n",
    "y = y + (random.random() - 0.5)"
   ]
  },
  {
   "cell_type": "code",
   "execution_count": 91,
   "id": "3203a991-5921-4bb3-a8f2-88259b0bdf7c",
   "metadata": {},
   "outputs": [],
   "source": [
    "def func4(x, a, b, c, d, e):\n",
    "    return a * x**4 + b * x**3 + c * x**2 + d * x + e\n",
    "\n",
    "def func3(x, a, b, c, d):\n",
    "    return a * x**3 + b * x**2 + c * x + d\n",
    "\n",
    "def func2(x, a, b, c):\n",
    "    return a * x**2 + b * x + c"
   ]
  },
  {
   "cell_type": "code",
   "execution_count": 130,
   "id": "42851d88-c628-40a1-95c9-fe0402d1aad7",
   "metadata": {},
   "outputs": [
    {
     "data": {
      "text/plain": [
       "array([ 0.29004329, -0.68489405,  4.03048476])"
      ]
     },
     "execution_count": 130,
     "metadata": {},
     "output_type": "execute_result"
    }
   ],
   "source": [
    "popt"
   ]
  },
  {
   "cell_type": "code",
   "execution_count": 128,
   "id": "2aa4fde9-1065-4f19-9c7e-fbd1cb850069",
   "metadata": {},
   "outputs": [
    {
     "data": {
      "text/plain": [
       "[<matplotlib.lines.Line2D at 0x20e01544a00>]"
      ]
     },
     "execution_count": 128,
     "metadata": {},
     "output_type": "execute_result"
    },
    {
     "data": {
      "image/png": "[encoded data removed]",
      "text/plain": [
       "<Figure size 432x288 with 1 Axes>"
      ]
     },
     "metadata": {
      "needs_background": "light"
     },
     "output_type": "display_data"
    }
   ],
   "source": [
    "popt, pcov = curve_fit(func2, x, y)\n",
    "plt.scatter(x, y)\n",
    "plt.plot(x, func2(x, *popt))"
   ]
  }
 ],
 "metadata": {
  "kernelspec": {
   "display_name": "Python 3",
   "language": "python",
   "name": "python3"
  },
  "language_info": {
   "codemirror_mode": {
    "name": "ipython",
    "version": 3
   },
   "file_extension": ".py",
   "mimetype": "text/x-python",
   "name": "python",
   "nbconvert_exporter": "python",
   "pygments_lexer": "ipython3",
   "version": "3.9.13"
  }
 },
 "nbformat": 4,
 "nbformat_minor": 5
}
